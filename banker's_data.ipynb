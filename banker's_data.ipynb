{
 "cells": [
  {
   "cell_type": "markdown",
   "id": "9a93b2c5-f465-428a-9515-53ee6b87abfa",
   "metadata": {},
   "source": [
    "## Code for ETL operations on Country-GDP data"
   ]
  },
  {
   "cell_type": "code",
   "execution_count": 104,
   "id": "36b80e7c-2381-448c-9149-a8b658a41def",
   "metadata": {},
   "outputs": [],
   "source": [
    "# Importing the required libraries\n",
    "\n",
    "import pandas as pd\n",
    "from bs4 import BeautifulSoup\n",
    "import requests\n",
    "from forex_python.converter import CurrencyRates\n",
    "import sqlite3\n",
    "import numpy as np\n",
    "import datetime"
   ]
  },
  {
   "cell_type": "markdown",
   "id": "11521ad8-400b-43c5-9348-02008012eac5",
   "metadata": {},
   "source": [
    "#### Task 1: Logging function\n"
   ]
  },
  {
   "cell_type": "code",
   "execution_count": 106,
   "id": "52f8ee08-20a1-4ce6-acfc-bc27bdd8720c",
   "metadata": {},
   "outputs": [],
   "source": [
    "def log_progress(message):\n",
    "    ''' This function logs the mentioned message of a given stage of the\n",
    "    code execution to a log file. Function returns nothing'''\n",
    "    with open(\"code_log.txt\", \"a\") as log_file:\n",
    "        time_stamp = datetime.datetime.now().strftime(\"%Y-%m-%d %H:%M:%S\")\n",
    "        log_entry = f\"{time_stamp} : {message}\\n\"\n",
    "        log_file.write(log_entry)\n",
    "\n",
    "\n",
    "# First log entry from the table\n",
    "\n",
    "log_progress(\"Preliminaries complete. Initiating ETL process\")"
   ]
  },
  {
   "cell_type": "markdown",
   "id": "55ae8c22-6c8c-40ac-868a-93e7239f9616",
   "metadata": {},
   "source": [
    "\n",
    "#### Task 2 : Extraction of data\n"
   ]
  },
  {
   "cell_type": "code",
   "execution_count": 108,
   "id": "fabdeb8e-bf53-4099-8ce6-f0a68eec295c",
   "metadata": {},
   "outputs": [
    {
     "name": "stdout",
     "output_type": "stream",
     "text": [
      "  Rank                                Bank name Market cap(US$ billion)\n",
      "0    1                           JPMorgan Chase                  432.92\n",
      "1    2                          Bank of America                  231.52\n",
      "2    3  Industrial and Commercial Bank of China                  194.56\n",
      "3    4               Agricultural Bank of China                  160.68\n",
      "4    5                                HDFC Bank                  157.91\n",
      "5    6                              Wells Fargo                  155.87\n",
      "6    7                        HSBC Holdings PLC                  148.90\n",
      "7    8                           Morgan Stanley                  140.83\n",
      "8    9                  China Construction Bank                  139.82\n",
      "9   10                            Bank of China                  136.81\n"
     ]
    }
   ],
   "source": [
    "def extract(url, table_attribs):\n",
    "    # Send a GET request to the URL\n",
    "    response = requests.get(url)\n",
    "    \n",
    "    # Raise an exception for unsuccessful HTTP requests\n",
    "    response.raise_for_status()\n",
    "    \n",
    "    soup = BeautifulSoup(response.text, 'html.parser')\n",
    "\n",
    "    # Find all tables on the page\n",
    "    tables = soup.find_all('table')\n",
    "\n",
    "    # Filter for the table with the specified attributes\n",
    "    for table in tables:\n",
    "        if all(attr in table.attrs.get('class', []) for attr in table_attribs['class']):\n",
    "            # Extract column names from the table header\n",
    "            headers = [header.text.strip() for header in table.find('tr').find_all('th')]\n",
    "\n",
    "            # Extract data from the table and store it in a list of lists\n",
    "            data = []\n",
    "            for row in table.find_all('tr')[1:]:  # Skip the first row\n",
    "                row_data = [cell.text.strip() for cell in row.find_all('td')]\n",
    "                data.append(row_data)\n",
    "\n",
    "            # Create a DataFrame from the extracted data\n",
    "            df = pd.DataFrame(data, columns=headers)\n",
    "\n",
    "            # Remove '\\n' from the 'Market Cap' column and typecast to float\n",
    "            if 'Market Cap' in df.columns:\n",
    "                df['Market Cap'] = df['Market Cap'].str.rstrip('\\n').astype(float)\n",
    "\n",
    "            # Return the DataFrame\n",
    "            return df\n",
    "\n",
    "    # If no matching table is found\n",
    "    print(\"Table not found on the webpage.\")\n",
    "    return pd.DataFrame()  # Return an empty DataFrame\n",
    "\n",
    "# Loading Dataframe\n",
    "url = 'https://web.archive.org/web/20230908091635/https://en.wikipedia.org/wiki/List_of_largest_banks'\n",
    "table_attributes = {'class': ['wikitable', 'sortable']}\n",
    "result_df = extract(url, table_attributes)\n",
    "\n",
    "# Display the resulting DataFrame\n",
    "print(result_df)\n",
    "\n",
    "# second log entry from the table\n",
    "\n",
    "log_progress(\"Data extraction complete. Initiating Transformation process\")\n"
   ]
  },
  {
   "cell_type": "markdown",
   "id": "fbc93b10-0d4b-45bb-bd10-02c1d88817bc",
   "metadata": {},
   "source": [
    "\n",
    "#### Task 3\n"
   ]
  },
  {
   "cell_type": "code",
   "execution_count": 110,
   "id": "43894a27-e7f4-40a5-91b9-b70be9bbd7b4",
   "metadata": {},
   "outputs": [
    {
     "name": "stdout",
     "output_type": "stream",
     "text": [
      "  Rank                                Bank name  Market cap(US$ billion)  \\\n",
      "0    1                           JPMorgan Chase                   432.92   \n",
      "1    2                          Bank of America                   231.52   \n",
      "2    3  Industrial and Commercial Bank of China                   194.56   \n",
      "3    4               Agricultural Bank of China                   160.68   \n",
      "4    5                                HDFC Bank                   157.91   \n",
      "5    6                              Wells Fargo                   155.87   \n",
      "6    7                        HSBC Holdings PLC                   148.90   \n",
      "7    8                           Morgan Stanley                   140.83   \n",
      "8    9                  China Construction Bank                   139.82   \n",
      "9   10                            Bank of China                   136.81   \n",
      "\n",
      "   MC_GBP_Billion  MC_EUR_Billion  MC_INR_Billion  \n",
      "0          346.34          402.62        35910.71  \n",
      "1          185.22          215.31        19204.58  \n",
      "2          155.65          180.94        16138.75  \n",
      "3          128.54          149.43        13328.41  \n",
      "4          126.33          146.86        13098.63  \n",
      "5          124.70          144.96        12929.42  \n",
      "6          119.12          138.48        12351.26  \n",
      "7          112.66          130.97        11681.85  \n",
      "8          111.86          130.03        11598.07  \n",
      "9          109.45          127.23        11348.39  \n"
     ]
    }
   ],
   "source": [
    "def transform(df, csv_path):\n",
    "    # Step 1: Read exchange rate CSV file and create a dictionary\n",
    "    exchange_rate_df = pd.read_csv(csv_path)\n",
    "    exchange_rate = dict(zip(exchange_rate_df.iloc[:, 0], exchange_rate_df.iloc[:, 1]))\n",
    "\n",
    "    # Check and convert the 'Market cap(US$ billion)' column to numeric if necessary\n",
    "    df['Market cap(US$ billion)'] = pd.to_numeric(df['Market cap(US$ billion)'], errors='coerce')\n",
    "\n",
    "    # Step 2: Add three new columns to the DataFrame using list comprehension\n",
    "    for currency in ['GBP', 'EUR', 'INR']:\n",
    "        new_column_name = f'MC_{currency}_Billion'\n",
    "        df[new_column_name] = np.round([x * exchange_rate[currency] for x in df['Market cap(US$ billion)']],\n",
    "                                       2)\n",
    "\n",
    "    return df\n",
    "\n",
    "\n",
    "# Provide the path to the exchange rate CSV file\n",
    "exchange_rate_csv_path = 'https://cf-courses-data.s3.us.cloud-object-storage.appdomain.cloud/IBMSkillsNetwork-PY0221EN-Coursera/labs/v2/exchange_rate.csv'\n",
    "\n",
    "# Apply the transformation to the DataFrame\n",
    "result_df_transformed = transform(result_df, exchange_rate_csv_path)\n",
    "\n",
    "# Display the resulting DataFrame with the new columns\n",
    "print(result_df_transformed)\n",
    "\n",
    "# third log entry from the table\n",
    "\n",
    "log_progress(\"Data transformation complete. Initiating Loading process\")\n"
   ]
  },
  {
   "cell_type": "markdown",
   "id": "f981fc6d-6192-414f-9867-c09038d39a3a",
   "metadata": {},
   "source": [
    "#### Task 4\n"
   ]
  },
  {
   "cell_type": "code",
   "execution_count": 112,
   "id": "73c79d05-e8eb-48e3-949c-470099c9f422",
   "metadata": {},
   "outputs": [
    {
     "name": "stdout",
     "output_type": "stream",
     "text": [
      "An error occurred while saving to CSV: [Errno 13] Permission denied: 'C:/Users/DELL/Desktop/output_transformed_data.csv'\n"
     ]
    }
   ],
   "source": [
    "def load_to_csv(df, file_path):\n",
    "    '''\n",
    "    Save the DataFrame to a CSV file.\n",
    "\n",
    "    Parameters:\n",
    "    - df: pandas DataFrame\n",
    "    - file_path: str, the path to save the CSV file\n",
    "    '''\n",
    "    try:\n",
    "        df.to_csv(file_path, index=False)\n",
    "        print(f\"DataFrame successfully saved to {file_path}\")\n",
    "    except Exception as e:\n",
    "        print(f\"An error occurred while saving to CSV: {e}\")\n",
    "\n",
    "\n",
    "#csv_file_path = 'C:/Users/DELL/Desktop/Largest_banks_data.csv'\n",
    "#load_to_csv(result_df_transformed, csv_file_path)\n",
    "csv_file_path = 'Largest_banks_data.csv'\n",
    "load_to_csv(result_df_transformed, csv_file_path)\n",
    "\n",
    "\n",
    "# fourth log entry from the table\n",
    "\n",
    "log_progress(\"Data saved to CSV file\")"
   ]
  },
  {
   "cell_type": "markdown",
   "id": "4a4fb390-0888-4328-8357-ad4171b8c872",
   "metadata": {},
   "source": [
    "#### Task 5\n"
   ]
  },
  {
   "cell_type": "code",
   "execution_count": 114,
   "id": "4f3f469e-5875-4df9-bcf0-ff9b4154fb04",
   "metadata": {},
   "outputs": [
    {
     "name": "stdout",
     "output_type": "stream",
     "text": [
      "  Rank                                Bank name  Market cap(US$ billion)  \\\n",
      "0    1                           JPMorgan Chase                   432.92   \n",
      "1    2                          Bank of America                   231.52   \n",
      "2    3  Industrial and Commercial Bank of China                   194.56   \n",
      "3    4               Agricultural Bank of China                   160.68   \n",
      "4    5                                HDFC Bank                   157.91   \n",
      "5    6                              Wells Fargo                   155.87   \n",
      "6    7                        HSBC Holdings PLC                   148.90   \n",
      "7    8                           Morgan Stanley                   140.83   \n",
      "8    9                  China Construction Bank                   139.82   \n",
      "9   10                            Bank of China                   136.81   \n",
      "\n",
      "   MC_GBP_Billion  MC_EUR_Billion  MC_INR_Billion  \n",
      "0          346.34          402.62        35910.71  \n",
      "1          185.22          215.31        19204.58  \n",
      "2          155.65          180.94        16138.75  \n",
      "3          128.54          149.43        13328.41  \n",
      "4          126.33          146.86        13098.63  \n",
      "5          124.70          144.96        12929.42  \n",
      "6          119.12          138.48        12351.26  \n",
      "7          112.66          130.97        11681.85  \n",
      "8          111.86          130.03        11598.07  \n",
      "9          109.45          127.23        11348.39  \n",
      "DataFrame successfully loaded into table Largest_Bank in the database.\n"
     ]
    }
   ],
   "source": [
    "import sqlite3\n",
    "\n",
    "def load_to_db(df, conn, table_name):\n",
    "    '''\n",
    "    Load the DataFrame into the specified table in the SQLite database.\n",
    "\n",
    "    Parameters:\n",
    "    - df: pandas DataFrame\n",
    "    - conn: SQLite connection object\n",
    "    - table_name: str, the name of the table in the database\n",
    "    '''\n",
    "    try:\n",
    "        df.to_sql(table_name, conn, index=False, if_exists='replace')\n",
    "        print(f\"DataFrame successfully loaded into table {table_name} in the database.\")\n",
    "    except Exception as e:\n",
    "        print(f\"An error occurred while loading to the database: {e}\")\n",
    "\n",
    "# fifth log entry from the table\n",
    "\n",
    "log_progress(\"SQL Connection initiated\")\n",
    "\n",
    "\n",
    "database_name = 'Banks.db'\n",
    "table_name = 'Largest_Bank'  # Updated to 'Largest_Bank'\n",
    "connection = sqlite3.connect(database_name)\n",
    "\n",
    "# Apply the transformation to the DataFrame\n",
    "result_df_transformed = transform(result_df, exchange_rate_csv_path)\n",
    "\n",
    "# Display the resulting DataFrame with the new columns\n",
    "print(result_df_transformed)\n",
    "\n",
    "# Load the transformed DataFrame to the SQLite database\n",
    "load_to_db(result_df_transformed, connection, table_name)\n",
    "\n",
    "\n",
    "# sixth log entry from the table\n",
    "\n",
    "log_progress(\"Data loaded to Database as a table, Executing queries\")\n"
   ]
  },
  {
   "cell_type": "markdown",
   "id": "51d24831-36ce-4554-af6e-3a91daeb578f",
   "metadata": {},
   "source": [
    "\n",
    "#### Task 6\n"
   ]
  },
  {
   "cell_type": "code",
   "execution_count": 116,
   "id": "8d31c41f-14a1-444e-b7e8-9cc4e85dc4b5",
   "metadata": {},
   "outputs": [
    {
     "name": "stdout",
     "output_type": "stream",
     "text": [
      "Query: SELECT * FROM Largest_Bank\n",
      "('1', 'JPMorgan Chase', 432.92, 346.34, 402.62, 35910.71)\n",
      "('2', 'Bank of America', 231.52, 185.22, 215.31, 19204.58)\n",
      "('3', 'Industrial and Commercial Bank of China', 194.56, 155.65, 180.94, 16138.75)\n",
      "('4', 'Agricultural Bank of China', 160.68, 128.54, 149.43, 13328.41)\n",
      "('5', 'HDFC Bank', 157.91, 126.33, 146.86, 13098.63)\n",
      "('6', 'Wells Fargo', 155.87, 124.7, 144.96, 12929.42)\n",
      "('7', 'HSBC Holdings PLC', 148.9, 119.12, 138.48, 12351.26)\n",
      "('8', 'Morgan Stanley', 140.83, 112.66, 130.97, 11681.85)\n",
      "('9', 'China Construction Bank', 139.82, 111.86, 130.03, 11598.07)\n",
      "('10', 'Bank of China', 136.81, 109.45, 127.23, 11348.39)\n",
      "\n",
      "Query: SELECT AVG(MC_GBP_Billion) AS Average_Market_Cap_Billion_USD FROM Largest_bank\n",
      "(151.987,)\n",
      "\n",
      "Query: SELECT `Bank Name` from Largest_bank LIMIT 5\n",
      "('JPMorgan Chase',)\n",
      "('Bank of America',)\n",
      "('Industrial and Commercial Bank of China',)\n",
      "('Agricultural Bank of China',)\n",
      "('HDFC Bank',)\n"
     ]
    }
   ],
   "source": [
    "import sqlite3\n",
    "\n",
    "def run_queries(query, conn):\n",
    "    '''\n",
    "    Execute the provided query using the SQLite connection object.\n",
    "\n",
    "    Parameters:\n",
    "    - query: str, SQL query statement\n",
    "    - conn: SQLite connection object\n",
    "    '''\n",
    "    try:\n",
    "        cursor = conn.cursor()\n",
    "        cursor.execute(query)\n",
    "        rows = cursor.fetchall()\n",
    "\n",
    "        # Print the query statement\n",
    "        print(f\"Query: {query}\")\n",
    "\n",
    "        # Print the query output\n",
    "        for row in rows:\n",
    "            print(row)\n",
    "\n",
    "    except sqlite3.Error as e:\n",
    "        print(f\"SQLite error: {e}\")\n",
    "    except Exception as e:\n",
    "        print(f\"An error occurred while executing the query: {e}\")\n",
    "\n",
    "\n",
    "database_name = 'Banks.db'\n",
    "connection = sqlite3.connect(database_name)\n",
    "\n",
    "# Query 1: Print the contents of the entire table\n",
    "query1 = \"SELECT * FROM Largest_Bank\"\n",
    "run_queries(query1, connection)\n",
    "print()\n",
    "\n",
    "# Query 2: Print the average market capitalization of all the banks in Billion USD\n",
    "query2 = \"SELECT AVG(MC_GBP_Billion) AS Average_Market_Cap_Billion_USD FROM Largest_bank\"\n",
    "run_queries(query2, connection)\n",
    "print()\n",
    "\n",
    "# Query 3: Print only the names of the top 5 banks\n",
    "query3 = 'SELECT `Bank Name` from Largest_bank LIMIT 5'\n",
    "run_queries(query3, connection)\n",
    "\n",
    "\n",
    "\n",
    "\n",
    "\n",
    "\n",
    "# seventh log entry from the table\n",
    "\n",
    "log_progress(\"Process Complete\")\n",
    "\n",
    "\n",
    "# Close the database connection\n",
    "connection.close()\n",
    "\n",
    "\n",
    "# seventh log entry from the table\n",
    "\n",
    "log_progress(\"Server Connection closed\")"
   ]
  }
 ],
 "metadata": {
  "kernelspec": {
   "display_name": "Python 3 (ipykernel)",
   "language": "python",
   "name": "python3"
  },
  "language_info": {
   "codemirror_mode": {
    "name": "ipython",
    "version": 3
   },
   "file_extension": ".py",
   "mimetype": "text/x-python",
   "name": "python",
   "nbconvert_exporter": "python",
   "pygments_lexer": "ipython3",
   "version": "3.12.2"
  }
 },
 "nbformat": 4,
 "nbformat_minor": 5
}
